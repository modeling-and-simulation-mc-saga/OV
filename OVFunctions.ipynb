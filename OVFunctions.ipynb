{
 "cells": [
  {
   "cell_type": "code",
   "execution_count": null,
   "metadata": {},
   "outputs": [],
   "source": [
    "import matplotlib.pyplot as plt\n",
    "import math\n",
    "from typing import Callable\n",
    "import sys\n",
    "sys.path.append(\"../lib\")\n",
    "from pylib import pltInit,Point,DataFile"
   ]
  },
  {
   "cell_type": "code",
   "execution_count": null,
   "metadata": {},
   "outputs": [],
   "source": [
    "def drawOVFunction(fType:str,d:float,vMax,w=0,c=0,d2=0):\n",
    "    plt.figure(figsize=(9,6),facecolor='white')\n",
    "    \n",
    "    plt.title('OV Function')\n",
    "    xmax = 50\n",
    "    ymax = 40\n",
    "    if fType=='Step':\n",
    "        xmax=30\n",
    "        ymax=12\n",
    "    plt.xlim(0,xmax)\n",
    "    plt.ylim(0,ymax)\n",
    "    plt.xlabel('$\\\\Delta x$')\n",
    "    plt.ylabel('$V$')\n",
    "    if fType=='Step':\n",
    "        plt.plot([d,d,xmax],[0,vMax,vMax],c='b')\n",
    "    elif fType=='PWL':\n",
    "        plt.plot([d,d2,xmax],[0,vMax,vMax],c='b')\n",
    "    else:\n",
    "        n=512\n",
    "        xl = [xmax*x/n for x in range(n)]\n",
    "        yl = [(vMax/2)*(math.tanh(2*(x-d)/w)+c) for x in xl]\n",
    "        plt.plot(xl,yl,c='b')\n",
    "#    plt.legend()\n",
    "    plt.savefig(fType+'.pdf')\n"
   ]
  },
  {
   "cell_type": "code",
   "execution_count": null,
   "metadata": {},
   "outputs": [],
   "source": [
    "pltInit()\n",
    "drawOVFunction('Step',d=10,vMax=10)\n",
    "drawOVFunction('PWL',d=15,d2=27,vMax=30)\n",
    "drawOVFunction('Tanh',d=25,vMax=33.6,w=23.3,c=0.913)"
   ]
  }
 ],
 "metadata": {
  "kernelspec": {
   "display_name": "myenv",
   "language": "python",
   "name": "python3"
  },
  "language_info": {
   "codemirror_mode": {
    "name": "ipython",
    "version": 3
   },
   "file_extension": ".py",
   "mimetype": "text/x-python",
   "name": "python",
   "nbconvert_exporter": "python",
   "pygments_lexer": "ipython3",
   "version": "3.10.8"
  },
  "orig_nbformat": 4,
  "vscode": {
   "interpreter": {
    "hash": "b3b804b6b7a7d9b475cf928428dd1242016eacc24c47853aaf0f8d1d2228aa39"
   }
  }
 },
 "nbformat": 4,
 "nbformat_minor": 2
}
